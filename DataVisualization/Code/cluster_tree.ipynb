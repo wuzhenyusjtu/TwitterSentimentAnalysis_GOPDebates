{
 "cells": [
  {
   "cell_type": "code",
   "execution_count": 2,
   "metadata": {
    "collapsed": false
   },
   "outputs": [],
   "source": [
    "import cPickle\n",
    "\n",
    "\n",
    "pos_vects = cPickle.load(open('raw_data/pos_vects.pkl', 'rb'))\n",
    "neg_vects = cPickle.load(open('raw_data/neg_vects.pkl', 'rb'))\n",
    "neu_vects = cPickle.load(open('raw_data/neu_vects.pkl', 'rb'))\n",
    "pos_conf = cPickle.load(open('raw_data/pos_conf.pkl', 'rb'))\n",
    "neg_conf = cPickle.load(open('raw_data/neg_conf.pkl','rb'))\n",
    "neu_conf = cPickle.load(open('raw_data/neu_conf.pkl','rb'))\n",
    "\n",
    "X_vects = pos_vects + neg_vects + neu_vects\n",
    "conf = pos_conf + neg_conf + neu_conf\n",
    "labels = ['Positive'] * len(pos_vects) + ['Negative'] * len(neg_vects) + ['Neutral'] * len(neu_vects)"
   ]
  },
  {
   "cell_type": "code",
   "execution_count": 3,
   "metadata": {
    "collapsed": false,
    "scrolled": true
   },
   "outputs": [
    {
     "name": "stdout",
     "output_type": "stream",
     "text": [
      "1288\n",
      "1288\n",
      "1288\n"
     ]
    }
   ],
   "source": [
    "print len(labels)\n",
    "print len(X_vects)\n",
    "print len(conf)\n",
    "\n",
    "#b_set = set(tuple(x) for x in training_vects_x)\n",
    "#training_vects_x = [ list(x) for x in b_set ]\n",
    "#print len(training_vects_x)"
   ]
  },
  {
   "cell_type": "code",
   "execution_count": 4,
   "metadata": {
    "collapsed": false
   },
   "outputs": [],
   "source": [
    "from matplotlib import pyplot as plt\n",
    "from scipy.cluster.hierarchy import dendrogram, linkage, to_tree, distance\n",
    "import numpy as np"
   ]
  },
  {
   "cell_type": "code",
   "execution_count": 39,
   "metadata": {
    "collapsed": false
   },
   "outputs": [
    {
     "name": "stdout",
     "output_type": "stream",
     "text": [
      "828828\n",
      "<type 'numpy.ndarray'>\n",
      "1\n"
     ]
    }
   ],
   "source": [
    "# generate the linkage matrix\n",
    "X = np.array(X_vects, dtype = np.uint8)\n",
    "d = distance.pdist(X,'euclidean')\n",
    "#print len(X)\n",
    "print len(d)\n",
    "print type(d)\n",
    "print d.ndim\n",
    "import numpy as np\n",
    "\n",
    "#from scipy.spatial.distance import pdist, squareform\n",
    "#ds = squareform( d )\n",
    "#q = lambda i,j,n: n*j - j*(j+1)/2 + i - 1 - j\n",
    "#for i in xrange( 1, len(X) ):\n",
    "#    for j in xrange( i ):\n",
    "#        assert ds[ i, j ] == d[ q( i, j, len(X) ) ]"
   ]
  },
  {
   "cell_type": "code",
   "execution_count": 40,
   "metadata": {
    "collapsed": false
   },
   "outputs": [
    {
     "name": "stdout",
     "output_type": "stream",
     "text": [
      "1288\n"
     ]
    }
   ],
   "source": [
    "from math import sqrt\n",
    "\n",
    "def compute_dist(x,y):\n",
    "    #print sum(x), sum(y)\n",
    "    sub = [a-b for a,b in zip(x,y)]\n",
    "    #print sum(sub)\n",
    "    times = [a*b for a,b in zip(sub,sub)]\n",
    "    #print sum(times)\n",
    "    return sqrt(float(sum(times)))\n",
    "Z = linkage(d, method='average')\n",
    "print len(X)\n",
    "\n",
    "#for i in xrange(len(X)-1):\n",
    "#    if Z[i][0] < 961 and Z[i][1] < 961:\n",
    "#        print i\n",
    "#        #print Z[i][0], Z[i][1]\n",
    "#        print Z[i][2]\n",
    "#        print compute_dist(X[Z[i][0]],X[Z[i][1]])\n",
    "#        print '********************************************'\n",
    "#        #assert compute_dist(X[Z[i][0]],X[Z[i][1]]) == Z[i][2]\n",
    "#    #print Z[i][0],Z[i][1],Z[i][2],Z[i][3]\n",
    "#print type(Z)"
   ]
  },
  {
   "cell_type": "code",
   "execution_count": 41,
   "metadata": {
    "collapsed": false
   },
   "outputs": [
    {
     "name": "stdout",
     "output_type": "stream",
     "text": [
      "<type 'instance'>\n",
      "1288 2574 <scipy.cluster.hierarchy.ClusterNode instance at 0x10cf07320> <scipy.cluster.hierarchy.ClusterNode instance at 0x1143ad830>\n"
     ]
    }
   ],
   "source": [
    "r = to_tree(Z,rd=False)\n",
    "print type(r)\n",
    "print r.get_count(), r.get_id(), r.get_left(), r.get_right()\n",
    "#for node in d:\n",
    "#    print node.is_leaf(), node.count, node.id, node.dist, node.left, node.right\n",
    "#    print '**********************************************************************'"
   ]
  },
  {
   "cell_type": "code",
   "execution_count": 42,
   "metadata": {
    "collapsed": false
   },
   "outputs": [
    {
     "name": "stdout",
     "output_type": "stream",
     "text": [
      "1.0\n",
      "7.14142842854\n"
     ]
    }
   ],
   "source": [
    "class denali_tree:\n",
    "    def __init__(self):\n",
    "        #self.root = root\n",
    "        self.vertices = []\n",
    "        self.edges = []\n",
    "    def inorder_walk(self, node, parent_id=None):\n",
    "        if node is not None:\n",
    "            self.inorder_walk(node.left, node.id)\n",
    "            self.vertices.append((node.id,node.dist))\n",
    "            if parent_id is not None:\n",
    "                self.edges.append((parent_id, node.id))\n",
    "            self.inorder_walk(node.right, node.id)\n",
    "    \n",
    "tree = denali_tree()\n",
    "tree.inorder_walk(r)\n",
    "print d.min()\n",
    "print d.max()"
   ]
  },
  {
   "cell_type": "code",
   "execution_count": 43,
   "metadata": {
    "collapsed": false
   },
   "outputs": [
    {
     "name": "stdout",
     "output_type": "stream",
     "text": [
      "2575\n"
     ]
    }
   ],
   "source": [
    "#print tree.vertices\n",
    "#print tree.edges\n",
    "from math import pow\n",
    "fp = open('ClusterTree/euclidean_cluster_tree.tree','wb')\n",
    "print len(tree.vertices)\n",
    "fp.write('{}'.format(len(tree.vertices)))\n",
    "fp.write('\\n')\n",
    "tree.vertices = sorted(tree.vertices, key=lambda x: x[0])\n",
    "for vertex in tree.vertices:\n",
    "    fp.write('{}'.format(vertex[0]))\n",
    "    fp.write('\\t')\n",
    "    if vertex[0] < len(X):\n",
    "        #fp.write('{}'.format((d.max() - vertex[1])*pow(sum(X[vertex[0]]),1.0/6)))\n",
    "        fp.write('{}'.format(vertex[1]))\n",
    "    else:\n",
    "        #fp.write('{}'.format((d.max() - vertex[1])*1))\n",
    "        fp.write('{}'.format(vertex[1]))\n",
    "    fp.write('\\n')\n",
    "id = len(tree.vertices)\n",
    "for edge in tree.edges:\n",
    "    fp.write('{}'.format(edge[0]))\n",
    "    fp.write('\\t')\n",
    "    fp.write('{}'.format(edge[1]))\n",
    "    #fp.write('\\t')\n",
    "    #weight = abs(tree.vertices[edge[0]][1] - tree.vertices[edge[1]][1])\n",
    "    #scalar_v = 1\n",
    "    #fp.write('{}'.format(id))\n",
    "    #fp.write('\\t')\n",
    "    #fp.write('{}'.format(scalar_v))\n",
    "    fp.write('\\n')\n",
    "    #id += 1\n",
    "fp.close()"
   ]
  }
 ],
 "metadata": {
  "kernelspec": {
   "display_name": "Python 2",
   "language": "python",
   "name": "python2"
  },
  "language_info": {
   "codemirror_mode": {
    "name": "ipython",
    "version": 2
   },
   "file_extension": ".py",
   "mimetype": "text/x-python",
   "name": "python",
   "nbconvert_exporter": "python",
   "pygments_lexer": "ipython2",
   "version": "2.7.11"
  }
 },
 "nbformat": 4,
 "nbformat_minor": 0
}
